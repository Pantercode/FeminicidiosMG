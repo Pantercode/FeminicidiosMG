{
  "cells": [
    {
      "cell_type": "markdown",
      "metadata": {
        "id": "view-in-github",
        "colab_type": "text"
      },
      "source": [
        "<a href=\"https://colab.research.google.com/github/Pantercode/FeminicidiosMG/blob/main/feminicidios_checkpoint.ipynb\" target=\"_parent\"><img src=\"https://colab.research.google.com/assets/colab-badge.svg\" alt=\"Open In Colab\"/></a>"
      ]
    },
    {
      "cell_type": "code",
      "execution_count": null,
      "id": "9d368fd4",
      "metadata": {
        "id": "9d368fd4"
      },
      "outputs": [],
      "source": [
        "#Importando as libs necessarias para o projeto\n",
        "from pyspark.sql import SparkSession\n",
        "from pyspark.sql.functions import col, to_date, date_format\n",
        "from pyspark.sql.functions import col, count, when, isnan\n",
        "from pyspark.sql.functions import col, regexp_replace\n",
        "from pyspark.sql.types import FloatType, IntegerType, BooleanType, StringType, DateType\n",
        "from pyspark.sql.functions import monotonically_increasing_id, row_number\n",
        "from pyspark.sql.window import Window\n",
        "import pandas as pd"
      ]
    },
    {
      "cell_type": "code",
      "execution_count": null,
      "id": "4c00fb4c-a63d-4ea5-baff-e8d4f3f6ad99",
      "metadata": {
        "id": "4c00fb4c-a63d-4ea5-baff-e8d4f3f6ad99"
      },
      "outputs": [],
      "source": [
        "# Inicializar o SPark\n",
        "\n",
        "\n",
        "spark = SparkSession.builder \\\n",
        "  .appName('Violencia_contra_mulher') \\\n",
        "  .config('spark.jars.packages', 'com.google.cloud.spark:spark-bigquery-with-dependencies_2.12:0.21.1') \\\n",
        "  .getOrCreate()\n"
      ]
    },
    {
      "cell_type": "code",
      "execution_count": null,
      "id": "8271acd8",
      "metadata": {
        "id": "8271acd8"
      },
      "outputs": [],
      "source": [
        "#Função que renomear da da colunas\n",
        "def renamear_coluna(df, old_column_name, new_column_name):\n",
        "    return df.withColumnRenamed(old_column_name, new_column_name)"
      ]
    },
    {
      "cell_type": "code",
      "execution_count": null,
      "id": "5dfb6117",
      "metadata": {
        "id": "5dfb6117"
      },
      "outputs": [],
      "source": [
        "# função que altera a tipagem da coluna\n",
        "def alterar_tipo_dado(df, coluna, novo_tipo):\n",
        "\n",
        "    if novo_tipo == 'float':\n",
        "        df = df.withColumn(coluna, regexp_replace(col(coluna), ',', '.').cast(FloatType()))\n",
        "    elif novo_tipo == 'int':\n",
        "        df = df.withColumn(coluna, regexp_replace(col(coluna), ',', '.').cast(FloatType()).cast(IntegerType()))\n",
        "    elif novo_tipo == 'bool':\n",
        "        df = df.withColumn(coluna, col(coluna).cast(BooleanType()))\n",
        "    elif novo_tipo == 'string':\n",
        "        df = df.withColumn(coluna, col(coluna).cast(StringType()))\n",
        "    elif novo_tipo == 'date':\n",
        "        df = df.withColumn(coluna, col(coluna).cast(DateType()))\n",
        "    else:\n",
        "\n",
        "        print(f\"Tipo de dado '{novo_tipo}' não reconhecido.\")\n",
        "    return df\n",
        "\n"
      ]
    },
    {
      "cell_type": "markdown",
      "id": "01840501",
      "metadata": {
        "id": "01840501"
      },
      "source": [
        "# Leitura dos datasets"
      ]
    },
    {
      "cell_type": "code",
      "execution_count": null,
      "id": "7274e5e5",
      "metadata": {
        "id": "7274e5e5"
      },
      "outputs": [],
      "source": [
        "df_2014 = spark.read.csv('violencia_domestica_2014.csv',sep=';',header=True)"
      ]
    },
    {
      "cell_type": "code",
      "execution_count": null,
      "id": "8fcf2855",
      "metadata": {
        "id": "8fcf2855"
      },
      "outputs": [],
      "source": [
        "df_2015 = spark.read.csv('violencia_domestica_2015.csv',sep=';',header=True)"
      ]
    },
    {
      "cell_type": "code",
      "execution_count": null,
      "id": "82e3da33",
      "metadata": {
        "id": "82e3da33"
      },
      "outputs": [],
      "source": [
        "df_2016 = spark.read.csv('violencia_domestica_2016.csv',sep=';',header=True)"
      ]
    },
    {
      "cell_type": "code",
      "execution_count": null,
      "id": "4de4c2c1",
      "metadata": {
        "id": "4de4c2c1"
      },
      "outputs": [],
      "source": [
        "df_2017 = spark.read.csv('violencia_domestica_2017.csv',sep=';',header=True)"
      ]
    },
    {
      "cell_type": "code",
      "execution_count": null,
      "id": "0714dff9",
      "metadata": {
        "id": "0714dff9"
      },
      "outputs": [],
      "source": [
        "df_2018 = spark.read.csv('violencia_domestica_2018.csv',sep=';',header=True)"
      ]
    },
    {
      "cell_type": "code",
      "execution_count": null,
      "id": "33838c8d",
      "metadata": {
        "id": "33838c8d"
      },
      "outputs": [],
      "source": [
        "df_2019 = spark.read.csv('violencia_domestica_2019.csv',sep=';',header=True)"
      ]
    },
    {
      "cell_type": "code",
      "execution_count": null,
      "id": "4957e6de",
      "metadata": {
        "id": "4957e6de"
      },
      "outputs": [],
      "source": [
        "df_2020 = spark.read.csv('violencia_domestica_2020.csv',sep=';',header=True)"
      ]
    },
    {
      "cell_type": "code",
      "execution_count": null,
      "id": "48018c3d",
      "metadata": {
        "id": "48018c3d"
      },
      "outputs": [],
      "source": [
        "df_2021 = spark.read.csv('violencia_domestica_2021.csv',sep=';',header=True)"
      ]
    },
    {
      "cell_type": "code",
      "execution_count": null,
      "id": "bc1c694f",
      "metadata": {
        "id": "bc1c694f"
      },
      "outputs": [],
      "source": [
        "df_2022 = spark.read.csv('violencia_domestica_2022.csv',sep=';',header=True)"
      ]
    },
    {
      "cell_type": "code",
      "execution_count": null,
      "id": "efeb29c8",
      "metadata": {
        "id": "efeb29c8"
      },
      "outputs": [],
      "source": [
        "df_2023 = spark.read.csv('violencia_domestica_2023.csv',sep=';',header=True)"
      ]
    },
    {
      "cell_type": "code",
      "execution_count": null,
      "id": "8e74379a",
      "metadata": {
        "id": "8e74379a"
      },
      "outputs": [],
      "source": [
        "# Concatenando todos os arquivos\n",
        "df_violencia_mg = df_2014.union(df_2015) \\\n",
        "                    .union(df_2016).union(df_2017) \\\n",
        "                    .union(df_2018).union(df_2019) \\\n",
        "                    .union(df_2020).union(df_2021) \\\n",
        "                    .union(df_2022).union(df_2023)"
      ]
    },
    {
      "cell_type": "code",
      "execution_count": null,
      "id": "05e2577a",
      "metadata": {
        "id": "05e2577a",
        "outputId": "843bdd23-5887-414c-e859-fb89f1bb588e"
      },
      "outputs": [
        {
          "name": "stdout",
          "output_type": "stream",
          "text": [
            "municipio_cod (tipo: string) - Nulos/Brancos: 0\n",
            "municipio_fato (tipo: string) - Nulos/Brancos: 0\n",
            "data_fato (tipo: string) - Nulos/Brancos: 0\n",
            "mes (tipo: string) - Nulos/Brancos: 0\n",
            "ano (tipo: string) - Nulos/Brancos: 0\n",
            "risp (tipo: string) - Nulos/Brancos: 0\n",
            "rmbh (tipo: string) - Nulos/Brancos: 0\n",
            "natureza_delito (tipo: string) - Nulos/Brancos: 0\n",
            "tentado_consumado (tipo: string) - Nulos/Brancos: 0\n",
            "qtde_vitimas (tipo: string) - Nulos/Brancos: 0\n"
          ]
        }
      ],
      "source": [
        "#Contabilizando dados nulos ou branco\n",
        "for column, dtype in df_violencia_mg.dtypes:\n",
        "    # Conta valores nulos ou em branco\n",
        "    null_count = df_violencia_mg.filter(\n",
        "        (col(column).isNull()) | (col(column) == \"\") | isnan(column)\n",
        "    ).count()\n",
        "\n",
        "    print(f\"{column} (tipo: {dtype}) - Nulos/Brancos: {null_count}\")"
      ]
    },
    {
      "cell_type": "code",
      "execution_count": null,
      "id": "f8e73c77",
      "metadata": {
        "id": "f8e73c77",
        "outputId": "5c7f3bff-02ac-4e9c-f9ed-a36f90f115f2"
      },
      "outputs": [
        {
          "name": "stdout",
          "output_type": "stream",
          "text": [
            "+-------------+-------------------+---------------+---+----+--------------------+-----------------+--------------------+--------------------+-------+\n",
            "|municipio_cod|             Cidade|Data_Ocorrencia|mes| ano|        Microrregiao|             RMBH|     Tipo_Fatalidade|Resultado_Fatalidade|Vitimas|\n",
            "+-------------+-------------------+---------------+---+----+--------------------+-----------------+--------------------+--------------------+-------+\n",
            "|       310010|ABADIA DOS DOURADOS|     2014-01-01|  1|2014|10º RISP - Patos ...|3) Interior de MG|                DANO|           CONSUMADO|      1|\n",
            "|       310030|         ABRE-CAMPO|     2014-01-01|  1|2014| 12º RISP - Ipatinga|3) Interior de MG|      LESAO CORPORAL|           CONSUMADO|      1|\n",
            "|       310040|            ACAIACA|     2014-01-01|  1|2014| 12º RISP - Ipatinga|3) Interior de MG|              AMEACA|           CONSUMADO|      1|\n",
            "|       310060|           AGUA BOA|     2014-01-01|  1|2014|  14º RISP - Curvelo|3) Interior de MG|              AMEACA|           CONSUMADO|      1|\n",
            "|       310060|           AGUA BOA|     2014-01-01|  1|2014|  14º RISP - Curvelo|3) Interior de MG|VIAS DE FATO / AG...|           CONSUMADO|      1|\n",
            "|       310150|       ALEM PARAIBA|     2014-01-01|  1|2014|4º RISP - Juiz de...|3) Interior de MG|VIAS DE FATO / AG...|           CONSUMADO|      3|\n",
            "|       310160|            ALFENAS|     2014-01-01|  1|2014|18º RISP - Poços ...|3) Interior de MG|              AMEACA|           CONSUMADO|      2|\n",
            "|       310160|            ALFENAS|     2014-01-01|  1|2014|18º RISP - Poços ...|3) Interior de MG|      LESAO CORPORAL|           CONSUMADO|      1|\n",
            "|       310160|            ALFENAS|     2014-01-01|  1|2014|18º RISP - Poços ...|3) Interior de MG|VIAS DE FATO / AG...|           CONSUMADO|      3|\n",
            "|       310170|           ALMENARA|     2014-01-01|  1|2014|15º RISP - Teófil...|3) Interior de MG|      LESAO CORPORAL|           CONSUMADO|      1|\n",
            "|       310200|           ALTEROSA|     2014-01-01|  1|2014|18º RISP - Poços ...|3) Interior de MG|           DIFAMACAO|           CONSUMADO|      2|\n",
            "|       310200|           ALTEROSA|     2014-01-01|  1|2014|18º RISP - Poços ...|3) Interior de MG|VIAS DE FATO / AG...|           CONSUMADO|      1|\n",
            "|       310260|           ANDRADAS|     2014-01-01|  1|2014|18º RISP - Poços ...|3) Interior de MG|      LESAO CORPORAL|           CONSUMADO|      4|\n",
            "|       310340|            ARACUAI|     2014-01-01|  1|2014|15º RISP - Teófil...|3) Interior de MG|      LESAO CORPORAL|           CONSUMADO|      1|\n",
            "|       310340|            ARACUAI|     2014-01-01|  1|2014|15º RISP - Teófil...|3) Interior de MG|VIAS DE FATO / AG...|           CONSUMADO|      2|\n",
            "|       310350|           ARAGUARI|     2014-01-01|  1|2014|9º RISP - Uberlândia|3) Interior de MG|              AMEACA|           CONSUMADO|      2|\n",
            "|       310350|           ARAGUARI|     2014-01-01|  1|2014|9º RISP - Uberlândia|3) Interior de MG|               FURTO|           CONSUMADO|      1|\n",
            "|       310350|           ARAGUARI|     2014-01-01|  1|2014|9º RISP - Uberlândia|3) Interior de MG|      LESAO CORPORAL|           CONSUMADO|      2|\n",
            "|       310350|           ARAGUARI|     2014-01-01|  1|2014|9º RISP - Uberlândia|3) Interior de MG|OUTROS INFRACOES ...|           CONSUMADO|      2|\n",
            "|       310350|           ARAGUARI|     2014-01-01|  1|2014|9º RISP - Uberlândia|3) Interior de MG|VIAS DE FATO / AG...|           CONSUMADO|      1|\n",
            "+-------------+-------------------+---------------+---+----+--------------------+-----------------+--------------------+--------------------+-------+\n",
            "only showing top 20 rows\n",
            "\n"
          ]
        }
      ],
      "source": [
        "df_violencia_mg = renamear_coluna(df_violencia_mg,\"municipio_fato\",\"Cidade\")\n",
        "df_violencia_mg = renamear_coluna(df_violencia_mg,\"data_fato\",\"Data_Ocorrencia\")\n",
        "df_violencia_mg = renamear_coluna(df_violencia_mg,\"risp\",\"Microrregiao\")\n",
        "df_violencia_mg = renamear_coluna(df_violencia_mg,\"rmbh\",\"RMBH\")\n",
        "df_violencia_mg = renamear_coluna(df_violencia_mg,\"natureza_delito\",\"Tipo_Fatalidade\")\n",
        "df_violencia_mg = renamear_coluna(df_violencia_mg,\"tentado_consumado\",\"Resultado_Fatalidade\")\n",
        "df_violencia_mg = renamear_coluna(df_violencia_mg,\"qtde_vitimas\",\"Vitimas\")\n",
        "df_violencia_mg.show()\n"
      ]
    },
    {
      "cell_type": "code",
      "execution_count": null,
      "id": "eb2fbee4",
      "metadata": {
        "id": "eb2fbee4",
        "outputId": "af1c3af6-1b38-4cf1-88b5-e2d88e7a0e6e"
      },
      "outputs": [
        {
          "data": {
            "text/plain": [
              "DataFrame[municipio_cod: string, Cidade: string, Data_Ocorrencia: string, mes: string, ano: string, Microrregiao: string, RMBH: string, Tipo_Fatalidade: string, Resultado_Fatalidade: string, Vitimas: int]"
            ]
          },
          "execution_count": 55,
          "metadata": {},
          "output_type": "execute_result"
        }
      ],
      "source": [
        "#Alterando o tipo das colunas\n",
        "alterar_tipo_dado(df_violencia_mg,\"municipio_cod\", \"int\")\n",
        "alterar_tipo_dado(df_violencia_mg,\"Data_Ocorrencia\", \"date\")\n",
        "alterar_tipo_dado(df_violencia_mg,\"Vitimas\", \"int\")"
      ]
    },
    {
      "cell_type": "code",
      "execution_count": null,
      "id": "ea5a3d86-98b4-4bbd-b8c7-49fe228a5725",
      "metadata": {
        "id": "ea5a3d86-98b4-4bbd-b8c7-49fe228a5725"
      },
      "outputs": [],
      "source": [
        "#selecionado a d_municipio\n",
        "df_violencia_mg1 = df_violencia_mg.select('municipio_cod','Cidade','Microrregiao','RMBH')"
      ]
    },
    {
      "cell_type": "code",
      "execution_count": null,
      "id": "053166d7-e0fe-48b9-a2a0-3a6471fd62dd",
      "metadata": {
        "id": "053166d7-e0fe-48b9-a2a0-3a6471fd62dd",
        "outputId": "f38baaf1-7694-4f4a-eefd-2cead7fcaa35"
      },
      "outputs": [
        {
          "name": "stdout",
          "output_type": "stream",
          "text": [
            "+-------------+-------------------+--------------------+-----------------+------------+\n",
            "|municipio_cod|             Cidade|        Microrregiao|             RMBH|id_municipio|\n",
            "+-------------+-------------------+--------------------+-----------------+------------+\n",
            "|       310010|ABADIA DOS DOURADOS|10º RISP - Patos ...|3) Interior de MG|           1|\n",
            "|       310030|         ABRE-CAMPO| 12º RISP - Ipatinga|3) Interior de MG|           2|\n",
            "|       310040|            ACAIACA| 12º RISP - Ipatinga|3) Interior de MG|           3|\n",
            "|       310060|           AGUA BOA|  14º RISP - Curvelo|3) Interior de MG|           4|\n",
            "|       310060|           AGUA BOA|  14º RISP - Curvelo|3) Interior de MG|           5|\n",
            "|       310150|       ALEM PARAIBA|4º RISP - Juiz de...|3) Interior de MG|           6|\n",
            "|       310160|            ALFENAS|18º RISP - Poços ...|3) Interior de MG|           7|\n",
            "|       310160|            ALFENAS|18º RISP - Poços ...|3) Interior de MG|           8|\n",
            "|       310160|            ALFENAS|18º RISP - Poços ...|3) Interior de MG|           9|\n",
            "|       310170|           ALMENARA|15º RISP - Teófil...|3) Interior de MG|          10|\n",
            "|       310200|           ALTEROSA|18º RISP - Poços ...|3) Interior de MG|          11|\n",
            "|       310200|           ALTEROSA|18º RISP - Poços ...|3) Interior de MG|          12|\n",
            "|       310260|           ANDRADAS|18º RISP - Poços ...|3) Interior de MG|          13|\n",
            "|       310340|            ARACUAI|15º RISP - Teófil...|3) Interior de MG|          14|\n",
            "|       310340|            ARACUAI|15º RISP - Teófil...|3) Interior de MG|          15|\n",
            "|       310350|           ARAGUARI|9º RISP - Uberlândia|3) Interior de MG|          16|\n",
            "|       310350|           ARAGUARI|9º RISP - Uberlândia|3) Interior de MG|          17|\n",
            "|       310350|           ARAGUARI|9º RISP - Uberlândia|3) Interior de MG|          18|\n",
            "|       310350|           ARAGUARI|9º RISP - Uberlândia|3) Interior de MG|          19|\n",
            "|       310350|           ARAGUARI|9º RISP - Uberlândia|3) Interior de MG|          20|\n",
            "+-------------+-------------------+--------------------+-----------------+------------+\n",
            "only showing top 20 rows\n",
            "\n"
          ]
        }
      ],
      "source": [
        "# Adicionando a coluna de Id_municipio\n",
        "windowSpec = Window.orderBy(monotonically_increasing_id())\n",
        "df_violencia_mg1 = df_violencia_mg1.withColumn(\"id_municipio\", row_number().over(windowSpec))\n",
        "df_violencia_mg1.show()"
      ]
    },
    {
      "cell_type": "code",
      "execution_count": null,
      "id": "aea8c293-3df1-4de0-bad0-c4835b7a493d",
      "metadata": {
        "id": "aea8c293-3df1-4de0-bad0-c4835b7a493d",
        "outputId": "d1547253-fc40-4598-f97b-c8c233960c44"
      },
      "outputs": [
        {
          "name": "stdout",
          "output_type": "stream",
          "text": [
            "+---------------+---+----+\n",
            "|Data_Ocorrencia|mes| ano|\n",
            "+---------------+---+----+\n",
            "|     2014-01-01|  1|2014|\n",
            "|     2014-01-01|  1|2014|\n",
            "|     2014-01-01|  1|2014|\n",
            "|     2014-01-01|  1|2014|\n",
            "|     2014-01-01|  1|2014|\n",
            "|     2014-01-01|  1|2014|\n",
            "|     2014-01-01|  1|2014|\n",
            "|     2014-01-01|  1|2014|\n",
            "|     2014-01-01|  1|2014|\n",
            "|     2014-01-01|  1|2014|\n",
            "|     2014-01-01|  1|2014|\n",
            "|     2014-01-01|  1|2014|\n",
            "|     2014-01-01|  1|2014|\n",
            "|     2014-01-01|  1|2014|\n",
            "|     2014-01-01|  1|2014|\n",
            "|     2014-01-01|  1|2014|\n",
            "|     2014-01-01|  1|2014|\n",
            "|     2014-01-01|  1|2014|\n",
            "|     2014-01-01|  1|2014|\n",
            "|     2014-01-01|  1|2014|\n",
            "+---------------+---+----+\n",
            "only showing top 20 rows\n",
            "\n"
          ]
        }
      ],
      "source": [
        "#selecionando as colunas da d_Calendario\n",
        "df_violencia_mg2 = df_violencia_mg.select('Data_Ocorrencia','mes','ano')\n",
        "df_violencia_mg2.show()"
      ]
    },
    {
      "cell_type": "code",
      "execution_count": null,
      "id": "b5150599-57a4-41f0-991c-290654285f22",
      "metadata": {
        "id": "b5150599-57a4-41f0-991c-290654285f22"
      },
      "outputs": [],
      "source": [
        "#selecionando as colunas da d_Fatalidade\n",
        "df_violencia_mg3 = df_violencia_mg.select('Tipo_Fatalidade','Resultado_Fatalidade')"
      ]
    },
    {
      "cell_type": "code",
      "execution_count": null,
      "id": "07ccc383-19c9-4772-8307-3fccfcf400a4",
      "metadata": {
        "id": "07ccc383-19c9-4772-8307-3fccfcf400a4",
        "outputId": "7320309f-bedc-4fa0-912a-973056e7d15d"
      },
      "outputs": [
        {
          "name": "stdout",
          "output_type": "stream",
          "text": [
            "+--------------------+--------------------+-------------+\n",
            "|     Tipo_Fatalidade|Resultado_Fatalidade|id_fatalidade|\n",
            "+--------------------+--------------------+-------------+\n",
            "|                DANO|           CONSUMADO|            1|\n",
            "|      LESAO CORPORAL|           CONSUMADO|            2|\n",
            "|              AMEACA|           CONSUMADO|            3|\n",
            "|              AMEACA|           CONSUMADO|            4|\n",
            "|VIAS DE FATO / AG...|           CONSUMADO|            5|\n",
            "|VIAS DE FATO / AG...|           CONSUMADO|            6|\n",
            "|              AMEACA|           CONSUMADO|            7|\n",
            "|      LESAO CORPORAL|           CONSUMADO|            8|\n",
            "|VIAS DE FATO / AG...|           CONSUMADO|            9|\n",
            "|      LESAO CORPORAL|           CONSUMADO|           10|\n",
            "|           DIFAMACAO|           CONSUMADO|           11|\n",
            "|VIAS DE FATO / AG...|           CONSUMADO|           12|\n",
            "|      LESAO CORPORAL|           CONSUMADO|           13|\n",
            "|      LESAO CORPORAL|           CONSUMADO|           14|\n",
            "|VIAS DE FATO / AG...|           CONSUMADO|           15|\n",
            "|              AMEACA|           CONSUMADO|           16|\n",
            "|               FURTO|           CONSUMADO|           17|\n",
            "|      LESAO CORPORAL|           CONSUMADO|           18|\n",
            "|OUTROS INFRACOES ...|           CONSUMADO|           19|\n",
            "|VIAS DE FATO / AG...|           CONSUMADO|           20|\n",
            "+--------------------+--------------------+-------------+\n",
            "only showing top 20 rows\n",
            "\n"
          ]
        }
      ],
      "source": [
        "#adicionadndo Id a tabela d_fatalidade\n",
        "windowSpec3 = Window.orderBy(monotonically_increasing_id())\n",
        "df_violencia_mg3 = df_violencia_mg3.withColumn(\"id_fatalidade\", row_number().over(windowSpec))\n",
        "df_violencia_mg3.show()"
      ]
    },
    {
      "cell_type": "code",
      "execution_count": null,
      "id": "88420667-9d42-4b59-8721-776251a4a6a6",
      "metadata": {
        "id": "88420667-9d42-4b59-8721-776251a4a6a6"
      },
      "outputs": [],
      "source": [
        "#selecionando as colunas da Fato\n",
        "df_violencia_mg4 = df_violencia_mg.select('Vitimas','Data_Ocorrencia')"
      ]
    },
    {
      "cell_type": "code",
      "execution_count": null,
      "id": "248949e7-d866-434b-8d95-8bb2765db856",
      "metadata": {
        "id": "248949e7-d866-434b-8d95-8bb2765db856",
        "outputId": "a1d200ee-8947-47f5-ca39-f55249027a86"
      },
      "outputs": [
        {
          "name": "stdout",
          "output_type": "stream",
          "text": [
            "+-------+---------------+-------------+------------+\n",
            "|Vitimas|Data_Ocorrencia|id_fatalidade|id_municipio|\n",
            "+-------+---------------+-------------+------------+\n",
            "|      1|     2014-01-01|            1|           1|\n",
            "|      1|     2014-01-01|            2|           2|\n",
            "|      1|     2014-01-01|            3|           3|\n",
            "|      1|     2014-01-01|            4|           4|\n",
            "|      1|     2014-01-01|            5|           5|\n",
            "|      3|     2014-01-01|            6|           6|\n",
            "|      2|     2014-01-01|            7|           7|\n",
            "|      1|     2014-01-01|            8|           8|\n",
            "|      3|     2014-01-01|            9|           9|\n",
            "|      1|     2014-01-01|           10|          10|\n",
            "|      2|     2014-01-01|           11|          11|\n",
            "|      1|     2014-01-01|           12|          12|\n",
            "|      4|     2014-01-01|           13|          13|\n",
            "|      1|     2014-01-01|           14|          14|\n",
            "|      2|     2014-01-01|           15|          15|\n",
            "|      2|     2014-01-01|           16|          16|\n",
            "|      1|     2014-01-01|           17|          17|\n",
            "|      2|     2014-01-01|           18|          18|\n",
            "|      2|     2014-01-01|           19|          19|\n",
            "|      1|     2014-01-01|           20|          20|\n",
            "+-------+---------------+-------------+------------+\n",
            "only showing top 20 rows\n",
            "\n"
          ]
        }
      ],
      "source": [
        "#adicionadndo os Id da tabela fato\n",
        "windowSpec4 = Window.orderBy(monotonically_increasing_id())\n",
        "df_violencia_mg4 = df_violencia_mg4.withColumn(\"id_fatalidade\", row_number().over(windowSpec))\n",
        "df_violencia_mg4 = df_violencia_mg4.withColumn(\"id_municipio\", row_number().over(windowSpec))\n",
        "df_violencia_mg4.show()"
      ]
    },
    {
      "cell_type": "code",
      "execution_count": null,
      "id": "d8a9109b-c4ff-4445-9a74-635f33eafc31",
      "metadata": {
        "id": "d8a9109b-c4ff-4445-9a74-635f33eafc31"
      },
      "outputs": [],
      "source": [
        "#Convertendo os arquivos em daframe pandas\n",
        "d_municipio = df_violencia_mg1.toPandas()\n",
        "d_Calendario= df_violencia_mg2.toPandas()\n",
        "d_fatalidade = df_violencia_mg3.toPandas()\n",
        "Fato_viole_fem = df_violencia_mg4.toPandas()"
      ]
    },
    {
      "cell_type": "code",
      "execution_count": null,
      "id": "2a2fae72-ac02-4a00-9050-2140d2fa8401",
      "metadata": {
        "id": "2a2fae72-ac02-4a00-9050-2140d2fa8401"
      },
      "outputs": [],
      "source": [
        "#transformando os dataframe e arquivo parquet\n",
        "d_municipio.to_parquet('d_municipio.parquet')\n",
        "d_Calendario.to_parquet('d_Calendario.parquet')\n",
        "d_fatalidade .to_parquet('d_fatalidade.parquet')\n",
        "Fato_viole_fem.to_parquet('Fato_viole_fem.parquet')"
      ]
    },
    {
      "cell_type": "code",
      "execution_count": null,
      "id": "7b1ad901-fbd0-43a3-9db0-06c17597d9b7",
      "metadata": {
        "id": "7b1ad901-fbd0-43a3-9db0-06c17597d9b7"
      },
      "outputs": [],
      "source": [
        "# Enviando os arquivos para o Google Storage"
      ]
    },
    {
      "cell_type": "code",
      "execution_count": null,
      "id": "2abb4880-cb1e-437b-9bf9-9a23f23dd89e",
      "metadata": {
        "id": "2abb4880-cb1e-437b-9bf9-9a23f23dd89e"
      },
      "outputs": [],
      "source": [
        "#lib de conexão com Google Cloud\n",
        "#import os\n",
        "#os.environ[\"GOOGLE_APPLICATION_CREDENTIALS\"] = \"C:\\\\Users\\\\User\\\\Desktop\\\\ViolenciaDomestica.json\""
      ]
    },
    {
      "cell_type": "code",
      "execution_count": null,
      "id": "b9e24cf6-67b9-4cc7-8665-a440de8cc6a9",
      "metadata": {
        "id": "b9e24cf6-67b9-4cc7-8665-a440de8cc6a9",
        "outputId": "42c51ffb-ef2c-494a-e7f3-f74897812de1"
      },
      "outputs": [
        {
          "data": {
            "text/plain": [
              "'\\nfrom google.cloud import storage\\n\\n# Crie um cliente do GCS\\nclient = storage.Client()\\n\\n# O nome do seu \"bucket\" no GCS\\nbucket_name = \\'04121989\\'\\n\\n# Lista dos nomes dos arquivos Parquet no sistema de arquivos local\\nfile_names = [\\'C:\\\\Users\\\\User\\\\Desktop\\\\ViolenciaDomestica\\\\d_municipio.parquet\\', \\'C:\\\\Users\\\\User\\\\Desktop\\\\ViolenciaDomestica\\\\d_Calendario.parquet\\', \\'C:\\\\Users\\\\User\\\\Desktop\\\\ViolenciaDomestica\\\\d_fatalidade.parquet\\', \\'C:\\\\Users\\\\User\\\\Desktop\\\\ViolenciaDomestica\\\\Fato_viole_fem.parquet\\']\\n\\n# Obtenha o bucket\\nbucket = client.get_bucket(bucket_name)\\n\\n# Itere sobre a lista de arquivos e faça o upload de cada um\\nfor file_name in file_names:\\n    # O nome do blob no GCS pode ser o mesmo que o nome do arquivo, ou você pode adicionar algum caminho\\n    blob_name = file_name  # ou \\'pasta_no_gcs/\\' + file_name\\n\\n    # Crie um novo blob e faça o upload do arquivo\\n    blob = bucket.blob(blob_name)\\n    blob.upload_from_filename(file_name)\\n\\n    print(f\"Arquivo {file_name} enviado com sucesso para o bucket {bucket_name} como {blob_name}\")\\n'"
            ]
          },
          "execution_count": 78,
          "metadata": {},
          "output_type": "execute_result"
        }
      ],
      "source": [
        "\"\"\"\n",
        "\n",
        "from google.cloud import storage\n",
        "\n",
        "# Crie um cliente do GCS\n",
        "client = storage.Client()\n",
        "\n",
        "# O nome do seu \"bucket\" no GCS\n",
        "bucket_name = '04121989'\n",
        "\n",
        "# Lista dos nomes dos arquivos Parquet no sistema de arquivos local\n",
        "file_names = ['C:\\\\Users\\\\User\\\\Desktop\\\\ViolenciaDomestica\\\\d_municipio.parquet', 'C:\\\\Users\\\\User\\\\Desktop\\\\ViolenciaDomestica\\\\d_Calendario.parquet', 'C:\\\\Users\\\\User\\\\Desktop\\\\ViolenciaDomestica\\\\d_fatalidade.parquet', 'C:\\\\Users\\\\User\\\\Desktop\\\\ViolenciaDomestica\\\\Fato_viole_fem.parquet']\n",
        "\n",
        "# Obtenha o bucket\n",
        "bucket = client.get_bucket(bucket_name)\n",
        "\n",
        "# Itere sobre a lista de arquivos e faça o upload de cada um\n",
        "for file_name in file_names:\n",
        "    # O nome do blob no GCS pode ser o mesmo que o nome do arquivo, ou você pode adicionar algum caminho\n",
        "    blob_name = file_name  # ou 'pasta_no_gcs/' + file_name\n",
        "\n",
        "    # Crie um novo blob e faça o upload do arquivo\n",
        "    blob = bucket.blob(blob_name)\n",
        "    blob.upload_from_filename(file_name)\n",
        "\n",
        "    print(f\"Arquivo {file_name} enviado com sucesso para o bucket {bucket_name} como {blob_name}\")\n",
        "\"\"\""
      ]
    }
  ],
  "metadata": {
    "kernelspec": {
      "display_name": "Python 3 (ipykernel)",
      "language": "python",
      "name": "python3"
    },
    "language_info": {
      "codemirror_mode": {
        "name": "ipython",
        "version": 3
      },
      "file_extension": ".py",
      "mimetype": "text/x-python",
      "name": "python",
      "nbconvert_exporter": "python",
      "pygments_lexer": "ipython3",
      "version": "3.9.12"
    },
    "colab": {
      "provenance": [],
      "include_colab_link": true
    }
  },
  "nbformat": 4,
  "nbformat_minor": 5
}